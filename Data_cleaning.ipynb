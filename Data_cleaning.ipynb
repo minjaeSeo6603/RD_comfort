{
 "cells": [
  {
   "cell_type": "code",
   "execution_count": 2,
   "metadata": {},
   "outputs": [],
   "source": [
    "import pandas as pd\n",
    "import numpy as np"
   ]
  },
  {
   "cell_type": "markdown",
   "metadata": {},
   "source": [
    "# Data Cleaning"
   ]
  },
  {
   "cell_type": "code",
   "execution_count": 13,
   "metadata": {},
   "outputs": [
    {
     "name": "stdout",
     "output_type": "stream",
     "text": [
      "calss 1 records: 7246\n",
      "calss 2 records: 26184\n",
      "calss 3 records: 8547\n",
      "total records: 41977\n",
      "total heating records: 15992\n"
     ]
    }
   ],
   "source": [
    "df_rawdata1 = pd.read_csv('Chinese Thermal Comfort Dataset Class I.csv', encoding='GBK')\n",
    "print(\"calss 1 records:\", len(df_rawdata1))\n",
    "df_rawdata2 = pd.read_csv('Chinese Thermal Comfort Dataset Class II.csv', encoding='GBK')\n",
    "print(\"calss 2 records:\", len(df_rawdata2))\n",
    "df_rawdata3 = pd.read_csv('Chinese Thermal Comfort Dataset Class III.csv', encoding='GBK')\n",
    "print(\"calss 3 records:\", len(df_rawdata3))\n",
    "# concatenate the three datasets\n",
    "df_rawdata = pd.concat([df_rawdata1, df_rawdata2, df_rawdata3], ignore_index=True)\n",
    "print(\"total records:\", len(df_rawdata))\n",
    "# only select A4.Season = heating season\n",
    "df_heating = df_rawdata[df_rawdata['A4.Season'] == 'Winter Season']\n",
    "print(\"total heating records:\", len(df_heating))"
   ]
  },
  {
   "cell_type": "markdown",
   "metadata": {},
   "source": [
    "## Clearning city names"
   ]
  },
  {
   "cell_type": "code",
   "execution_count": 14,
   "metadata": {},
   "outputs": [
    {
     "data": {
      "text/plain": [
       "array(['Hebei Province,Handan City', 'Henan Province,Zhengzhou City',\n",
       "       'Henan Province,Luoyang City', 'Tianjin City',\n",
       "       'Liaoning Province,Dalian City',\n",
       "       'Heilongjiang Province, Harbin City', 'Beijing',\n",
       "       'Jiangsu Province,Changzhou City', 'Shanghai City',\n",
       "       \"Shaanxi Province,Xi'an City\", 'Guangdong Province,Guangzhou City',\n",
       "       'Beijing City', 'Baotou City', 'Turpan',\n",
       "       'Hubei Province, Wuhan City', \"Shaanxi Province, Xi'an City\",\n",
       "       'Hunan Province, Changsha City', 'Yunnan Province,Kunming City',\n",
       "       'Lhasa City', 'Henan Province,Jiaozuo City',\n",
       "       'Sichuan Province, Zigong City', 'Liaoning Province, Benxi City',\n",
       "       'Henan Province, Nanyang City', 'Liaoning Province, Dalian City',\n",
       "       'Hainan Province, Sanya City', 'Hunan Province, Hengyang City',\n",
       "       'Shanxi Province, Lvliangfenyang City',\n",
       "       'Henan Province, Pingdingshan City',\n",
       "       'Yunnan Province, Kunming City', 'Shandong Province, Qingdao City',\n",
       "       'Fujian Province, Zhenjiang City',\n",
       "       'Shandong Province, Yantai City', 'Hohhot City',\n",
       "       'Fujian Province, Fuzhou City', 'Shandong Province, Xintai City',\n",
       "       'Henan Province, Kaifeng City', 'Fujian Province, Nanping City',\n",
       "       'Henan Province, Luoyang City'], dtype=object)"
      ]
     },
     "execution_count": 14,
     "metadata": {},
     "output_type": "execute_result"
    }
   ],
   "source": [
    "df_heating['A5.City'].unique()"
   ]
  },
  {
   "cell_type": "markdown",
   "metadata": {},
   "source": [
    "### Organizing city names in the same format (without comma and space)"
   ]
  },
  {
   "cell_type": "code",
   "execution_count": 15,
   "metadata": {},
   "outputs": [],
   "source": [
    "df_heating = df_heating.copy()\n",
    "# remove comma and replace space by _ in the A5.City strings\n",
    "df_heating['A5.City'] = df_heating['A5.City'].str.replace(' ', '')\n",
    "df_heating['A5.City'] = df_heating['A5.City'].str.replace(',', '')"
   ]
  },
  {
   "cell_type": "code",
   "execution_count": 16,
   "metadata": {},
   "outputs": [
    {
     "data": {
      "text/plain": [
       "array(['HebeiProvinceHandanCity', 'HenanProvinceZhengzhouCity',\n",
       "       'HenanProvinceLuoyangCity', 'TianjinCity',\n",
       "       'LiaoningProvinceDalianCity', 'HeilongjiangProvinceHarbinCity',\n",
       "       'Beijing', 'JiangsuProvinceChangzhouCity', 'ShanghaiCity',\n",
       "       \"ShaanxiProvinceXi'anCity\", 'GuangdongProvinceGuangzhouCity',\n",
       "       'BeijingCity', 'BaotouCity', 'Turpan', 'HubeiProvinceWuhanCity',\n",
       "       'HunanProvinceChangshaCity', 'YunnanProvinceKunmingCity',\n",
       "       'LhasaCity', 'HenanProvinceJiaozuoCity',\n",
       "       'SichuanProvinceZigongCity', 'LiaoningProvinceBenxiCity',\n",
       "       'HenanProvinceNanyangCity', 'HainanProvinceSanyaCity',\n",
       "       'HunanProvinceHengyangCity', 'ShanxiProvinceLvliangfenyangCity',\n",
       "       'HenanProvincePingdingshanCity', 'ShandongProvinceQingdaoCity',\n",
       "       'FujianProvinceZhenjiangCity', 'ShandongProvinceYantaiCity',\n",
       "       'HohhotCity', 'FujianProvinceFuzhouCity',\n",
       "       'ShandongProvinceXintaiCity', 'HenanProvinceKaifengCity',\n",
       "       'FujianProvinceNanpingCity'], dtype=object)"
      ]
     },
     "execution_count": 16,
     "metadata": {},
     "output_type": "execute_result"
    }
   ],
   "source": [
    "df_heating['A5.City'].unique()"
   ]
  },
  {
   "cell_type": "markdown",
   "metadata": {},
   "source": [
    "### Add latitude and outdoor temperature (January) data for each city"
   ]
  },
  {
   "cell_type": "code",
   "execution_count": 17,
   "metadata": {},
   "outputs": [],
   "source": [
    "city_dict_lat = {\n",
    "    \"HebeiProvinceHandanCity\": 36.62,  \n",
    "    \"HenanProvinceZhengzhouCity\": 34.75,  \n",
    "    \"TianjinCity\": 39.12,  \n",
    "    \"LiaoningProvinceDalianCity\": 38.92,  \n",
    "    \"HeilongjiangProvinceHarbinCity\": 45.75,  \n",
    "    \"Beijing\": 39.90,  \n",
    "    \"JiangsuProvinceChangzhouCity\": 31.78,  \n",
    "    \"ShanghaiCity\": 31.23,  \n",
    "    \"ShaanxiProvinceXi'anCity\": 34.26,  \n",
    "    \"GuangdongProvinceGuangzhouCity\": 23.13,  \n",
    "    \"BaotouCity\": 40.65,  \n",
    "    \"Turpan\": 42.94,  \n",
    "    \"HubeiProvinceWuhanCity\": 30.58,  \n",
    "    \"HunanProvinceChangshaCity\": 28.23,  \n",
    "    \"YunnanProvinceKunmingCity\": 24.87,  \n",
    "    \"LhasaCity\": 29.65,  \n",
    "    \"HenanProvinceJiaozuoCity\": 35.24,  \n",
    "    \"SichuanProvinceZigongCity\": 29.34,  \n",
    "    \"LiaoningProvinceBenxiCity\": 41.29,  \n",
    "    \"HenanProvinceNanyangCity\": 32.99,  \n",
    "    \"HainanProvinceSanyaCity\": 18.25,  \n",
    "    \"HunanProvinceHengyangCity\": 26.89,  \n",
    "    \"ShanxiProvinceLvliangfenyangCity\": 37.51,  \n",
    "    \"HenanProvincePingdingshanCity\": 33.74,  \n",
    "    \"ShandongProvinceQingdaoCity\": 36.07,  \n",
    "    \"FujianProvinceZhenjiangCity\": 32.21,\n",
    "    \"ShandongProvinceYantaiCity\": 37.53,  \n",
    "    \"HohhotCity\": 40.82,  \n",
    "    \"FujianProvinceFuzhouCity\": 26.08,  \n",
    "    \"ShandongProvinceXintaiCity\": 35.90,\n",
    "    \"HenanProvinceKaifengCity\": 34.79,  \n",
    "    \"FujianProvinceNanpingCity\": 26.64,  \n",
    "}\n",
    "# create a new column 'latitude' and in df_heating and assign the latitude value to corresponding city\n",
    "df_heating['latitude'] = df_heating['A5.City'].map(city_dict_lat)"
   ]
  },
  {
   "cell_type": "code",
   "execution_count": 18,
   "metadata": {},
   "outputs": [],
   "source": [
    "city_dict_tout = {\n",
    "    \"HebeiProvinceHandanCity\": -7.28,  \n",
    "    \"HenanProvinceZhengzhouCity\": -5.6,  \n",
    "    \"TianjinCity\": -10.97,  \n",
    "    \"LiaoningProvinceDalianCity\": -13.44,  \n",
    "    \"HeilongjiangProvinceHarbinCity\": -27.75,  \n",
    "    \"Beijing\": -10.05,  \n",
    "    \"JiangsuProvinceChangzhouCity\": -3,  # Estimated\n",
    "    \"ShanghaiCity\": -2.16,  \n",
    "    \"ShaanxiProvinceXi'anCity\": -6,  # Estimated\n",
    "    \"GuangdongProvinceGuangzhouCity\": 4.98,  \n",
    "    \"BaotouCity\": -18,  # Estimated\n",
    "    \"Turpan\": -16.5,  \n",
    "    \"HubeiProvinceWuhanCity\": -2.53,  \n",
    "    \"HunanProvinceChangshaCity\": -1.8,  \n",
    "    \"YunnanProvinceKunmingCity\": 0.95,  \n",
    "    \"LhasaCity\": -7.02,  \n",
    "    \"HenanProvinceJiaozuoCity\": -5.05,  \n",
    "    \"SichuanProvinceZigongCity\": 2.19,  \n",
    "    \"LiaoningProvinceBenxiCity\": -21.73,  \n",
    "    \"HenanProvinceNanyangCity\": -4.81,  \n",
    "    \"HainanProvinceSanyaCity\": 13.22,  \n",
    "    \"HunanProvinceHengyangCity\": -1.31,  \n",
    "    \"ShanxiProvinceLvliangfenyangCity\": -12,  # Estimated\n",
    "    \"HenanProvincePingdingshanCity\": -13.79,  \n",
    "    \"ShandongProvinceQingdaoCity\": -7.78,  \n",
    "    \"ShandongProvinceYantaiCity\": -5,  # Estimated\n",
    "    \"ShandongProvinceXintaiCity\": -6,  # Estimated\n",
    "    \"FujianProvinceZhenjiangCity\": 3,  # Estimated, assuming a typo and meant for a Fujian city\n",
    "    \"FujianProvinceNanpingCity\": 2,  # Estimated\n",
    "    \"HohhotCity\": -21.05,  \n",
    "    \"FujianProvinceFuzhouCity\": 4.59,\n",
    "    \"HenanProvinceKaifengCity\": -6.2,\n",
    "}\n",
    "# create a new column 'latitude' and in df_heating and assign the latitude value to corresponding city\n",
    "df_heating['t_out'] = df_heating['A5.City'].map(city_dict_tout)"
   ]
  },
  {
   "cell_type": "markdown",
   "metadata": {},
   "source": [
    "## Cleaning data column names"
   ]
  },
  {
   "cell_type": "code",
   "execution_count": 19,
   "metadata": {},
   "outputs": [
    {
     "data": {
      "text/plain": [
       "Index(['ID', 'A1.Code', 'A2.Date', 'A3.Data Contributor', 'A4.Season',\n",
       "       'A5.City', 'A6.Climate Zone', 'B1.Building Type',\n",
       "       'B2.Building Function', 'B3.Floors', 'B4.Building Operation Mode',\n",
       "       'B5.Room (Length×Width)', 'B5.Room Height (m)', 'C1.Sex', 'C2.Age',\n",
       "       'C3.Height（cm）', 'C4.Weight（kg）', 'C5.Living Years', 'D1.TSV', 'D2.TCV',\n",
       "       'D3.TAV', 'D5.Clothing Insulation (clo)', 'D6.Metabolic Rate (met)',\n",
       "       'Measured Height (m)', 'E1.Indoor Air Temperature (℃)',\n",
       "       'E2.Indoor Relative Humidity (%)', 'E3.Indoor Air Velocity (m/s)',\n",
       "       'E4.Globe Temperature (℃)', 'E5.Roof Temperature (℃)',\n",
       "       'E5.Wall Temperature (℃)', 'E5.Floor Temperature (℃)',\n",
       "       'F1.Operative Temperature (℃)', 'F2.Mean Radiant Temperature (℃)',\n",
       "       'F3.Radiant Temperature Asymmetry (℃)', 'F4.PMV', 'F5.PPD',\n",
       "       'G1.Real-Time Outdoor Temperature (℃)',\n",
       "       'G2.Mean Daily Outdoor Temperature (℃)',\n",
       "       'G3.Monthly Mean Outdoor Temperature (℃)',\n",
       "       'G4.7-Day Running Mean Outdoor Temperature (℃)',\n",
       "       'G4.15-Day Running Mean Outdoor Temperature (℃)',\n",
       "       'G5.Mean Daily Outdoor Relative Humidity (%)',\n",
       "       'G6.Mean Daily Outdoor Air Velocity (m/s)', 'latitude', 't_out'],\n",
       "      dtype='object')"
      ]
     },
     "execution_count": 19,
     "metadata": {},
     "output_type": "execute_result"
    }
   ],
   "source": [
    "df_heating.columns"
   ]
  },
  {
   "cell_type": "code",
   "execution_count": 20,
   "metadata": {},
   "outputs": [],
   "source": [
    "# rename personal conditions\n",
    "df_heating = df_heating.rename(columns={'D1.TSV': 'tsv'})\n",
    "df_heating = df_heating.rename(columns={'D2.TCV': 'tcv'})\n",
    "df_heating = df_heating.rename(columns={'D3.TAV': 'tav'})\n",
    "df_heating = df_heating.rename(columns={'D5.Clothing Insulation (clo)': 'clo'})\n",
    "df_heating = df_heating.rename(columns={'D6.Metabolic Rate (met)': 'met'})\n",
    "# rename  indoor environment parameters\n",
    "df_heating = df_heating.rename(columns={'E1.Indoor Air Temperature (℃)': 't_db'})\n",
    "df_heating = df_heating.rename(columns={'E2.Indoor Relative Humidity (%)': 'rh'})\n",
    "df_heating = df_heating.rename(columns={'E3.Indoor Air Velocity (m/s)': 'vel'})\n",
    "df_heating = df_heating.rename(columns={'E4.Globe Temperature (℃)': 't_globe'})\n",
    "df_heating = df_heating.rename(columns={'F1.Operative Temperature (℃)': 't_op'})\n",
    "df_heating = df_heating.rename(columns={'F2.Mean Radiant Temperature (℃)': 't_mrt'})\n",
    "# rename outdoor temperature parameters\n",
    "df_heating = df_heating.rename(columns={'G1.Real-Time Outdoor Temperature (℃)': 't_out_realtime'})\n",
    "df_heating = df_heating.rename(columns={'G2.Mean Daily Outdoor Temperature (℃)': 't_out_daily'})\n",
    "df_heating = df_heating.rename(columns={'G3.Monthly Mean Outdoor Temperature (℃)': 't_out_monthly'})\n",
    "df_heating = df_heating.rename(columns={'G4.7-Day Running Mean Outdoor Temperature (℃)': 't_out_7'})\n",
    "df_heating = df_heating.rename(columns={'G4.15-Day Running Mean Outdoor Temperature (℃)': 't_out_15'})\n"
   ]
  },
  {
   "cell_type": "markdown",
   "metadata": {},
   "source": [
    "## Remove null data among \"t_op\" and \"tsv\" and \"latitude\""
   ]
  },
  {
   "cell_type": "code",
   "execution_count": 25,
   "metadata": {},
   "outputs": [
    {
     "name": "stdout",
     "output_type": "stream",
     "text": [
      "total records: 15992\n",
      "total records: 15623\n"
     ]
    }
   ],
   "source": [
    "numeric_columns = ['t_db', 't_mrt', 'vel', 'rh', 'met', 'clo', 't_op', 'tsv', 't_out_monthly', 't_out_7', 't_out_15', 't_out_daily', 't_out_realtime', 't_globe']\n",
    "# for loop convert int or str to float for numeric columns\n",
    "for column in numeric_columns:\n",
    "    df_heating[column] = df_heating[column].astype(float)\n",
    "print(\"total records:\", len(df_heating))\n",
    "\n",
    "drop_columns = ['t_op', 'tsv', 'latitude']\n",
    "df_heating_1 = df_heating.dropna(subset = drop_columns)\n",
    "print(\"total records:\", len(df_heating_1))\n",
    "\n",
    "# export the cleaned dataset as a csv file\n",
    "df_heating_1.to_csv('Chinese Thermal Comfort Dataset Heating Season_tsv.csv', index=False)"
   ]
  },
  {
   "cell_type": "markdown",
   "metadata": {},
   "source": [
    "## Remove null data among \"t_op\" and \"tcv\" and \"latitude\""
   ]
  },
  {
   "cell_type": "code",
   "execution_count": 26,
   "metadata": {},
   "outputs": [
    {
     "name": "stdout",
     "output_type": "stream",
     "text": [
      "total records: 15992\n",
      "total records: 14116\n"
     ]
    }
   ],
   "source": [
    "numeric_columns = ['t_db', 't_mrt', 'vel', 'rh', 'met', 'clo', 't_op', 'tsv', 't_out_monthly', 't_out_7', 't_out_15', 't_out_daily', 't_out_realtime', 't_globe']\n",
    "# for loop convert int or str to float for numeric columns\n",
    "for column in numeric_columns:\n",
    "    df_heating[column] = df_heating[column].astype(float)\n",
    "print(\"total records:\", len(df_heating))\n",
    "\n",
    "drop_columns = ['t_op', 'tcv', 'latitude']\n",
    "df_heating_1 = df_heating.dropna(subset = drop_columns)\n",
    "print(\"total records:\", len(df_heating_1))\n",
    "\n",
    "# export the cleaned dataset as a csv file\n",
    "df_heating_1.to_csv('Chinese Thermal Comfort Dataset Heating Season_tcv.csv', index=False)"
   ]
  },
  {
   "cell_type": "code",
   "execution_count": null,
   "metadata": {},
   "outputs": [],
   "source": []
  },
  {
   "cell_type": "code",
   "execution_count": null,
   "metadata": {},
   "outputs": [],
   "source": []
  }
 ],
 "metadata": {
  "kernelspec": {
   "display_name": "base",
   "language": "python",
   "name": "python3"
  },
  "language_info": {
   "codemirror_mode": {
    "name": "ipython",
    "version": 3
   },
   "file_extension": ".py",
   "mimetype": "text/x-python",
   "name": "python",
   "nbconvert_exporter": "python",
   "pygments_lexer": "ipython3",
   "version": "3.9.7"
  }
 },
 "nbformat": 4,
 "nbformat_minor": 2
}
