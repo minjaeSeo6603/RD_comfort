{
 "cells": [
  {
   "cell_type": "code",
   "execution_count": 72,
   "metadata": {},
   "outputs": [],
   "source": [
    "import pandas as pd\n",
    "import numpy as np\n",
    "import matplotlib.pyplot as plt\n",
    "import seaborn as sns\n",
    "import statsmodels.api as sm\n",
    "import statsmodels.formula.api as smf\n",
    "from pythermalcomfort.models import set_tmp"
   ]
  },
  {
   "cell_type": "markdown",
   "metadata": {},
   "source": [
    "# Data Cleaning"
   ]
  },
  {
   "cell_type": "code",
   "execution_count": 49,
   "metadata": {},
   "outputs": [
    {
     "name": "stdout",
     "output_type": "stream",
     "text": [
      "total records: 41977\n"
     ]
    }
   ],
   "source": [
    "df_rawdata1 = pd.read_csv('Chinese Thermal Comfort Dataset Class I.csv', encoding='GBK')\n",
    "df_rawdata2 = pd.read_csv('Chinese Thermal Comfort Dataset Class II.csv', encoding='GBK')\n",
    "df_rawdata3 = pd.read_csv('Chinese Thermal Comfort Dataset Class III.csv', encoding='GBK')\n",
    "# concatenate the three datasets\n",
    "df_rawdata = pd.concat([df_rawdata1, df_rawdata2, df_rawdata3], ignore_index=True)\n",
    "print(\"total records:\", len(df_rawdata))"
   ]
  },
  {
   "cell_type": "code",
   "execution_count": 141,
   "metadata": {},
   "outputs": [
    {
     "name": "stdout",
     "output_type": "stream",
     "text": [
      "total heating records: 15992\n"
     ]
    }
   ],
   "source": [
    "# only select A4.Season = heating season\n",
    "df_heating = df_rawdata[df_rawdata['A4.Season'] == 'Winter Season']\n",
    "print(\"total heating records:\", len(df_heating))"
   ]
  },
  {
   "cell_type": "markdown",
   "metadata": {},
   "source": [
    "## Add latitude"
   ]
  },
  {
   "cell_type": "code",
   "execution_count": 142,
   "metadata": {},
   "outputs": [
    {
     "data": {
      "text/plain": [
       "array(['Hebei Province,Handan City', 'Henan Province,Zhengzhou City',\n",
       "       'Henan Province,Luoyang City', 'Tianjin City',\n",
       "       'Liaoning Province,Dalian City',\n",
       "       'Heilongjiang Province, Harbin City', 'Beijing',\n",
       "       'Jiangsu Province,Changzhou City', 'Shanghai City',\n",
       "       \"Shaanxi Province,Xi'an City\", 'Guangdong Province,Guangzhou City',\n",
       "       'Beijing City', 'Baotou City', 'Turpan',\n",
       "       'Hubei Province, Wuhan City', \"Shaanxi Province, Xi'an City\",\n",
       "       'Hunan Province, Changsha City', 'Yunnan Province,Kunming City',\n",
       "       'Lhasa City', 'Henan Province,Jiaozuo City',\n",
       "       'Sichuan Province, Zigong City', 'Liaoning Province, Benxi City',\n",
       "       'Henan Province, Nanyang City', 'Liaoning Province, Dalian City',\n",
       "       'Hainan Province, Sanya City', 'Hunan Province, Hengyang City',\n",
       "       'Shanxi Province, Lvliangfenyang City',\n",
       "       'Henan Province, Pingdingshan City',\n",
       "       'Yunnan Province, Kunming City', 'Shandong Province, Qingdao City',\n",
       "       'Fujian Province, Zhenjiang City',\n",
       "       'Shandong Province, Yantai City', 'Hohhot City',\n",
       "       'Fujian Province, Fuzhou City', 'Shandong Province, Xintai City',\n",
       "       'Henan Province, Kaifeng City', 'Fujian Province, Nanping City',\n",
       "       'Henan Province, Luoyang City'], dtype=object)"
      ]
     },
     "execution_count": 142,
     "metadata": {},
     "output_type": "execute_result"
    }
   ],
   "source": [
    "df_heating['A5.City'].unique()"
   ]
  },
  {
   "cell_type": "code",
   "execution_count": 143,
   "metadata": {},
   "outputs": [],
   "source": [
    "df_heating = df_heating.copy()\n",
    "# remove comma and replace space by _ in the A5.City strings\n",
    "df_heating['A5.City'] = df_heating['A5.City'].str.replace(' ', '')\n",
    "df_heating['A5.City'] = df_heating['A5.City'].str.replace(',', '')"
   ]
  },
  {
   "cell_type": "code",
   "execution_count": 144,
   "metadata": {},
   "outputs": [
    {
     "data": {
      "text/plain": [
       "array(['HebeiProvinceHandanCity', 'HenanProvinceZhengzhouCity',\n",
       "       'HenanProvinceLuoyangCity', 'TianjinCity',\n",
       "       'LiaoningProvinceDalianCity', 'HeilongjiangProvinceHarbinCity',\n",
       "       'Beijing', 'JiangsuProvinceChangzhouCity', 'ShanghaiCity',\n",
       "       \"ShaanxiProvinceXi'anCity\", 'GuangdongProvinceGuangzhouCity',\n",
       "       'BeijingCity', 'BaotouCity', 'Turpan', 'HubeiProvinceWuhanCity',\n",
       "       'HunanProvinceChangshaCity', 'YunnanProvinceKunmingCity',\n",
       "       'LhasaCity', 'HenanProvinceJiaozuoCity',\n",
       "       'SichuanProvinceZigongCity', 'LiaoningProvinceBenxiCity',\n",
       "       'HenanProvinceNanyangCity', 'HainanProvinceSanyaCity',\n",
       "       'HunanProvinceHengyangCity', 'ShanxiProvinceLvliangfenyangCity',\n",
       "       'HenanProvincePingdingshanCity', 'ShandongProvinceQingdaoCity',\n",
       "       'FujianProvinceZhenjiangCity', 'ShandongProvinceYantaiCity',\n",
       "       'HohhotCity', 'FujianProvinceFuzhouCity',\n",
       "       'ShandongProvinceXintaiCity', 'HenanProvinceKaifengCity',\n",
       "       'FujianProvinceNanpingCity'], dtype=object)"
      ]
     },
     "execution_count": 144,
     "metadata": {},
     "output_type": "execute_result"
    }
   ],
   "source": [
    "df_heating['A5.City'].unique()"
   ]
  },
  {
   "cell_type": "code",
   "execution_count": 166,
   "metadata": {},
   "outputs": [],
   "source": [
    "city_dict_lat = {\n",
    "    \"HebeiProvinceHandanCity\": 36.60,  \n",
    "    \"HenanProvinceZhengzhouCity\": 34.75,  \n",
    "    \"TianjinCity\": 39.12,  \n",
    "    \"LiaoningProvinceDalianCity\": 38.92,  \n",
    "    \"HeilongjiangProvinceHarbinCity\": 45.75,  \n",
    "    \"Beijing\": 39.90,  \n",
    "    \"JiangsuProvinceChangzhouCity\": 31.78,  \n",
    "    \"ShanghaiCity\": 31.23,  \n",
    "    \"ShaanxiProvinceXi'anCity\": 34.26,  \n",
    "    \"GuangdongProvinceGuangzhouCity\": 23.13,  \n",
    "    \"BaotouCity\": 40.65,  \n",
    "    \"Turpan\": 42.94,  \n",
    "    \"HubeiProvinceWuhanCity\": 30.58,  \n",
    "    \"HunanProvinceChangshaCity\": 28.23,  \n",
    "    \"YunnanProvinceKunmingCity\": 24.87,  \n",
    "    \"LhasaCity\": 29.65,  \n",
    "    \"HenanProvinceJiaozuoCity\": 35.24,  \n",
    "    \"SichuanProvinceZigongCity\": 29.34,  \n",
    "    \"LiaoningProvinceBenxiCity\": 41.29,  \n",
    "    \"HenanProvinceNanyangCity\": 32.99,  \n",
    "    \"HainanProvinceSanyaCity\": 18.25,  \n",
    "    \"HunanProvinceHengyangCity\": 26.89,  \n",
    "    \"ShanxiProvinceLvliangfenyangCity\": 37.51,  \n",
    "    \"HenanProvincePingdingshanCity\": 33.74,  \n",
    "    \"ShandongProvinceQingdaoCity\": 36.07,  \n",
    "    \"FujianProvinceZhenjiangCity\": 32.21,\n",
    "    \"ShandongProvinceYantaiCity\": 37.53,  \n",
    "    \"HohhotCity\": 40.82,  \n",
    "    \"FujianProvinceFuzhouCity\": 26.08,  \n",
    "    \"ShandongProvinceXintaiCity\": 35.90,\n",
    "    \"HenanProvinceKaifengCity\": 34.79,  \n",
    "    \"FujianProvinceNanpingCity\": 26.64,  \n",
    "}\n",
    "# create a new column 'latitude' and in df_heating and assign the latitude value to corresponding city\n",
    "df_heating['latitude'] = df_heating['A5.City'].map(city_dict_lat)"
   ]
  },
  {
   "cell_type": "markdown",
   "metadata": {},
   "source": [
    "## Rename columns"
   ]
  },
  {
   "cell_type": "code",
   "execution_count": 154,
   "metadata": {},
   "outputs": [
    {
     "data": {
      "text/plain": [
       "Index(['ID', 'A1.Code', 'A2.Date', 'A3.Data Contributor', 'A4.Season',\n",
       "       'A5.City', 'A6.Climate Zone', 'B1.Building Type',\n",
       "       'B2.Building Function', 'B3.Floors', 'B4.Building Operation Mode',\n",
       "       'B5.Room (Length×Width)', 'B5.Room Height (m)', 'C1.Sex', 'C2.Age',\n",
       "       'C3.Height（cm）', 'C4.Weight（kg）', 'C5.Living Years', 'tsv', 'tcv',\n",
       "       'tav', 'clo', 'met', 'Measured Height (m)', 't_db', 'rh', 'vel',\n",
       "       't_globe', 'E5.Roof Temperature (℃)', 'E5.Wall Temperature (℃)',\n",
       "       'E5.Floor Temperature (℃)', 't_op', 't_mrt',\n",
       "       'F3.Radiant Temperature Asymmetry (℃)', 'F4.PMV', 'F5.PPD',\n",
       "       't_out_realtime', 't_out_daily', 't_out_monthly', 't_out_7', 't_out_15',\n",
       "       'G5.Mean Daily Outdoor Relative Humidity (%)',\n",
       "       'G6.Mean Daily Outdoor Air Velocity (m/s)', 'latitude'],\n",
       "      dtype='object')"
      ]
     },
     "execution_count": 154,
     "metadata": {},
     "output_type": "execute_result"
    }
   ],
   "source": [
    "df_heating.columns"
   ]
  },
  {
   "cell_type": "code",
   "execution_count": 153,
   "metadata": {},
   "outputs": [],
   "source": [
    "# rename personal conditions\n",
    "df_heating = df_heating.rename(columns={'D1.TSV': 'tsv'})\n",
    "df_heating = df_heating.rename(columns={'D2.TCV': 'tcv'})\n",
    "df_heating = df_heating.rename(columns={'D3.TAV': 'tav'})\n",
    "df_heating = df_heating.rename(columns={'D5.Clothing Insulation (clo)': 'clo'})\n",
    "df_heating = df_heating.rename(columns={'D6.Metabolic Rate (met)': 'met'})\n",
    "# rename  indoor environment parameters\n",
    "df_heating = df_heating.rename(columns={'E1.Indoor Air Temperature (℃)': 't_db'})\n",
    "df_heating = df_heating.rename(columns={'E2.Indoor Relative Humidity (%)': 'rh'})\n",
    "df_heating = df_heating.rename(columns={'E3.Indoor Air Velocity (m/s)': 'vel'})\n",
    "df_heating = df_heating.rename(columns={'E4.Globe Temperature (℃)': 't_globe'})\n",
    "df_heating = df_heating.rename(columns={'F1.Operative Temperature (℃)': 't_op'})\n",
    "df_heating = df_heating.rename(columns={'F2.Mean Radiant Temperature (℃)': 't_mrt'})\n",
    "# rename outdoor temperature parameters\n",
    "df_heating = df_heating.rename(columns={'G1.Real-Time Outdoor Temperature (℃)': 't_out_realtime'})\n",
    "df_heating = df_heating.rename(columns={'G2.Mean Daily Outdoor Temperature (℃)': 't_out_daily'})\n",
    "df_heating = df_heating.rename(columns={'G3.Monthly Mean Outdoor Temperature (℃)': 't_out_monthly'})\n",
    "df_heating = df_heating.rename(columns={'G4.7-Day Running Mean Outdoor Temperature (℃)': 't_out_7'})\n",
    "df_heating = df_heating.rename(columns={'G4.15-Day Running Mean Outdoor Temperature (℃)': 't_out_15'})\n"
   ]
  },
  {
   "cell_type": "markdown",
   "metadata": {},
   "source": [
    "## Remove null data"
   ]
  },
  {
   "cell_type": "code",
   "execution_count": 157,
   "metadata": {},
   "outputs": [
    {
     "name": "stdout",
     "output_type": "stream",
     "text": [
      "total records: 15992\n"
     ]
    }
   ],
   "source": [
    "numeric_columns = ['t_db', 't_mrt', 'vel', 'rh', 'met', 'clo', 't_op', 'tsv', 't_out_monthly', 't_out_7', 't_out_15', 't_out_daily', 't_out_realtime', 't_globe']\n",
    "# for loop convert int or str to float for numeric columns\n",
    "for column in numeric_columns:\n",
    "    df_heating[column] = df_heating[column].astype(float)\n",
    "print(\"total records:\", len(df_heating))"
   ]
  },
  {
   "cell_type": "code",
   "execution_count": 167,
   "metadata": {},
   "outputs": [
    {
     "name": "stdout",
     "output_type": "stream",
     "text": [
      "total records: 15623\n"
     ]
    }
   ],
   "source": [
    "drop_columns = ['t_op', 'tsv', 'latitude']\n",
    "df_heating_1 = df_heating.dropna(subset = drop_columns)\n",
    "print(\"total records:\", len(df_heating_1))"
   ]
  },
  {
   "cell_type": "code",
   "execution_count": 118,
   "metadata": {},
   "outputs": [],
   "source": [
    "# df_heating['t_set'] = df_heating.apply(lambda row: set_tmp(\n",
    "#     tdb=row['t_db'], \n",
    "#     tr=row['t_mrt'], \n",
    "#     v=row['vel'], \n",
    "#     rh=row['rh'], \n",
    "#     met=row['met'], \n",
    "#     clo=row['clo']\n",
    "# ), axis=1)"
   ]
  },
  {
   "cell_type": "code",
   "execution_count": 171,
   "metadata": {},
   "outputs": [
    {
     "data": {
      "image/png": "[encoded data removed]",
      "text/plain": [
       "<Figure size 432x288 with 1 Axes>"
      ]
     },
     "metadata": {
      "needs_background": "light"
     },
     "output_type": "display_data"
    }
   ],
   "source": [
    "# scatter plot of t_out_monthly_yrmin as x and t_n as y, and show city name of each point\n",
    "plt.figure(figsize=(6, 4))\n",
    "sns.scatterplot(data=df_heating, x='t_op', y='tsv', s=10)\n",
    "plt.show()"
   ]
  },
  {
   "cell_type": "markdown",
   "metadata": {},
   "source": [
    "# Neutral temperature"
   ]
  },
  {
   "cell_type": "code",
   "execution_count": 172,
   "metadata": {},
   "outputs": [],
   "source": [
    "def regression_op_a(data_bldg):\n",
    "    \"\"\"\n",
    "    TSV = a * t_op + b\n",
    "    Regressing Thermal Sensation Vote (TSV) against indoor operative temperature (t_op).    \n",
    "    Use the regression model to derive the neutral temperature by letting TSV equals 0.\n",
    "    The upper and lower limit of 80% comfort zone are derived by letting TSV equals +-0.85.\n",
    "    \"\"\"\n",
    "    lm_result = smf.ols(formula='tsv ~ t_op', data=data_bldg).fit()\n",
    "    slope = lm_result.params['t_op']\n",
    "    intercept = lm_result.params['Intercept']\n",
    "    # check whether the slope is significant\n",
    "    if lm_result.pvalues['t_op'] < 0.05:\n",
    "        a = slope\n",
    "        b = intercept\n",
    "        temp_n = -b / a\n",
    "        temp_up = (0.85-b)/a\n",
    "        temp_low = (-0.85-b)/a\n",
    "        return [slope, intercept, temp_n, temp_up, temp_low]\n",
    "    else:\n",
    "        return [np.nan] * 5  # Return NaNs if the slope is not significant\n",
    "\n",
    "def regression_op_b(data_bldg):\n",
    "    \"\"\"\n",
    "    op = a * TSV + b\n",
    "    Regressing Standard Effective Temperature (op) against Thermal Sensation Vote (TSV).\n",
    "    Use the regression model to derive the neutral temperature by letting TSV equals 0.\n",
    "    The upper and lower limit of 80% comfort zone are derived by letting TSV equals +-0.85.\n",
    "    \"\"\"\n",
    "    lm_result = smf.ols(formula='t_op ~ tsv', data=data_bldg).fit()\n",
    "    slope = lm_result.params['tsv']\n",
    "    intercept = lm_result.params['Intercept']\n",
    "    # check whether the slope is significant\n",
    "    if lm_result.pvalues['tsv'] < 0.05:\n",
    "        a = slope\n",
    "        b = intercept\n",
    "        temp_n = b\n",
    "        temp_up = 0.85*a + b\n",
    "        temp_low = (-0.85)*a + b\n",
    "        sig_model = [slope, intercept, temp_n, temp_up, temp_low]\n",
    "        return sig_model\n",
    "    else:\n",
    "        return [np.nan] * 5\n"
   ]
  },
  {
   "cell_type": "code",
   "execution_count": 200,
   "metadata": {},
   "outputs": [],
   "source": [
    "# create a new dataframe grouped by city, store number of records as a column, calculate the mean of t_op, tsv, latitude\n",
    "df_heating_city = df_heating_1.groupby('A5.City').agg(\n",
    "    records=('A5.City', 'size'),\n",
    "    t_op=('t_op', 'mean'),\n",
    "    tsv=('tsv', 'mean'),\n",
    "    latitude=('latitude', 'mean')\n",
    ").reset_index()"
   ]
  },
  {
   "cell_type": "code",
   "execution_count": 201,
   "metadata": {},
   "outputs": [],
   "source": [
    "df_heating_city = df_heating_city.copy()\n",
    "# Apply the function to each group of df_heating grouped by 'A5.City'\n",
    "grouped_results = df_heating.groupby('A5.City').apply(regression_op_a)\n",
    "results_df = pd.DataFrame(grouped_results.tolist(), index=grouped_results.index, columns=['slope', 'intercept', 'temp_n', 'temp_up', 'temp_low'])\n",
    "df_heating_city = df_heating_city.merge(results_df, left_on='A5.City', right_index=True, how='left')"
   ]
  },
  {
   "cell_type": "code",
   "execution_count": 202,
   "metadata": {},
   "outputs": [],
   "source": [
    "# using griffith method to estimate temp_n\n",
    "df_heating_city['temp_n_grif'] = df_heating_city['t_op'] + (0 - df_heating_city['tsv'])/4.0"
   ]
  },
  {
   "cell_type": "code",
   "execution_count": 206,
   "metadata": {},
   "outputs": [
    {
     "data": {
      "image/png": "[encoded data removed]",
      "text/plain": [
       "<Figure size 432x288 with 1 Axes>"
      ]
     },
     "metadata": {
      "needs_background": "light"
     },
     "output_type": "display_data"
    }
   ],
   "source": [
    "# plot the scatter plot of t_out_monthly and temp_n, data point size is proportional to the number of records\n",
    "plt.figure(figsize=(6, 4))\n",
    "x = df_heating_city['latitude']\n",
    "y = df_heating_city['temp_n']\n",
    "sizes = df_heating_city['records']  # This will control the size of the points\n",
    "plt.scatter(x, y, s=sizes)  # Use the 's' parameter to set sizes of points\n",
    "plt.xlabel('Latitude')\n",
    "plt.ylabel('Comfort Temperature')\n",
    "plt.show()\n"
   ]
  },
  {
   "cell_type": "code",
   "execution_count": null,
   "metadata": {},
   "outputs": [],
   "source": []
  }
 ],
 "metadata": {
  "kernelspec": {
   "display_name": "base",
   "language": "python",
   "name": "python3"
  },
  "language_info": {
   "codemirror_mode": {
    "name": "ipython",
    "version": 3
   },
   "file_extension": ".py",
   "mimetype": "text/x-python",
   "name": "python",
   "nbconvert_exporter": "python",
   "pygments_lexer": "ipython3",
   "version": "3.9.7"
  }
 },
 "nbformat": 4,
 "nbformat_minor": 2
}
